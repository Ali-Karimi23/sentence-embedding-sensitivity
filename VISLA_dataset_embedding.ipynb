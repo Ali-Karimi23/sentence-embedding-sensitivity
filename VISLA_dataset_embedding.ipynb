{
 "cells": [
  {
   "cell_type": "code",
   "execution_count": null,
   "id": "85f7c4c6",
   "metadata": {},
   "outputs": [],
   "source": [
    "import os\n",
    "import torch\n",
    "import numpy as np\n",
    "import pandas as pd\n",
    "from datasets import load_dataset, load_from_disk , Dataset, DatasetDict\n",
    "from sentence_transformers import SentenceTransformer\n",
    "import time"
   ]
  },
  {
   "cell_type": "code",
   "execution_count": null,
   "id": "639d437b",
   "metadata": {},
   "outputs": [],
   "source": [
    "from google.colab import drive\n",
    "\n",
    "# Mount Drive\n",
    "drive.mount('/content/drive')"
   ]
  },
  {
   "cell_type": "code",
   "execution_count": null,
   "id": "cb20cd68",
   "metadata": {},
   "outputs": [],
   "source": [
    "REPO = \"/content/drive/MyDrive/00-github/sentence-embedding-sensitivity\"\n",
    "DATA = os.path.join(REPO,\"Data\")\n",
    "DATASETS_SAVE_PATH = os.path.join(DATA,\"visla_datasets\")\n",
    "GEN_DATA = os.path.join(REPO,\"VISLA\",\"Generic_VISLA.tsv\")\n",
    "SPA_DATA = os.path.join(REPO,\"VISLA\",\"Spatial_VISLA.tsv\")"
   ]
  },
  {
   "cell_type": "code",
   "execution_count": null,
   "id": "072cd9bd",
   "metadata": {},
   "outputs": [],
   "source": [
    "model_dict = {\n",
    "    \"par-dis-roberta\": \"paraphrase-distilroberta-base-v1\",\n",
    "    \"roberta-base-v3\": \"msmarco-roberta-base-v3\",\n",
    "    \"par-mpnet\": \"paraphrase-mpnet-base-v2\",\n",
    "    \"par-xlm-r\": \"paraphrase-xlm-r-multilingual-v1\",\n",
    "    \"labse\": \"LaBSE\",\n",
    "    \"e5-base\": \"intfloat/e5-base-v2\",\n",
    "    \"gte-base\": \"thenlper/gte-base\",\n",
    "    \"bge-base-v15\": \"BAAI/bge-base-en-v1.5\"\n",
    "}"
   ]
  },
  {
   "cell_type": "code",
   "execution_count": null,
   "id": "5ed1da2b",
   "metadata": {},
   "outputs": [],
   "source": [
    "# @title make dataset folder\n",
    "os.makedirs(DATASETS_SAVE_PATH, exist_ok=True)"
   ]
  },
  {
   "cell_type": "code",
   "execution_count": null,
   "id": "a0b7618d",
   "metadata": {},
   "outputs": [],
   "source": [
    "# @title load generic dataset\n",
    "generic_df = pd.read_csv(GEN_DATA, sep=\"\\t\")"
   ]
  },
  {
   "cell_type": "code",
   "execution_count": null,
   "id": "2d431a22",
   "metadata": {},
   "outputs": [],
   "source": [
    "# @title  Fast GPU modes\n",
    "device = \"cuda\" if torch.cuda.is_available() else \"cpu\"\n",
    "if device == \"cuda\":\n",
    "    torch.backends.cuda.matmul.allow_tf32 = True\n",
    "    torch.backends.cudnn.allow_tf32 = True\n",
    "    torch.set_float32_matmul_precision(\"high\")\n",
    "    gpu_name = torch.cuda.get_device_name(0)\n",
    "    ENCODE_BS = 1024 if \"A100\" in gpu_name else 256\n",
    "    AMP_DTYPE = torch.bfloat16 if \"A100\" in gpu_name else torch.float16\n",
    "else:\n",
    "    gpu_name = \"CPU\"\n",
    "    ENCODE_BS = 64\n",
    "    AMP_DTYPE = None\n",
    "\n",
    "print(f\"Running on {gpu_name}, batch_size={ENCODE_BS}, dtype={AMP_DTYPE}\")"
   ]
  }
 ],
 "metadata": {
  "kernelspec": {
   "display_name": "sentence_transformer",
   "language": "python",
   "name": "python3"
  },
  "language_info": {
   "name": "python",
   "version": "3.10.17"
  }
 },
 "nbformat": 4,
 "nbformat_minor": 5
}
