{
 "cells": [
  {
   "cell_type": "code",
   "execution_count": null,
   "id": "552685e8",
   "metadata": {},
   "outputs": [
    {
     "name": "stderr",
     "output_type": "stream",
     "text": [
      "/opt/homebrew/Caskroom/miniforge3/envs/sentence_transformer/lib/python3.10/site-packages/tqdm/auto.py:21: TqdmWarning: IProgress not found. Please update jupyter and ipywidgets. See https://ipywidgets.readthedocs.io/en/stable/user_install.html\n",
      "  from .autonotebook import tqdm as notebook_tqdm\n"
     ]
    }
   ],
   "source": [
    "import numpy as np\n",
    "import os\n",
    "import torch\n",
    "from datasets import load_dataset , load_from_disk\n",
    "from transformers import Trainer, TrainingArguments\n",
    "from sentence_transformers import SentenceTransformer\n",
    "from registry import *"
   ]
  },
  {
   "cell_type": "code",
   "execution_count": null,
   "id": "ecfceae2",
   "metadata": {},
   "outputs": [],
   "source": [
    "from google.colab import drive\n",
    "\n",
    "# Mount Drive\n",
    "drive.mount('/content/drive')"
   ]
  },
  {
   "cell_type": "code",
   "execution_count": null,
   "id": "c6318c1c",
   "metadata": {},
   "outputs": [],
   "source": [
    "device = \"cuda\" if torch.cuda.is_available() else \"cpu\""
   ]
  },
  {
   "cell_type": "code",
   "execution_count": null,
   "id": "a4a3d74d",
   "metadata": {},
   "outputs": [],
   "source": [
    "def compute_embeddings(examples,model):\n",
    "    # Tokenize the sentences\n",
    "    if \"sentence1\" in examples and \"sentence2\" in examples:\n",
    "        embeddings_A = model.encode(examples['sentence1'], convert_to_numpy=True)\n",
    "        embeddings_B = model.encode(examples['sentence2'], convert_to_numpy=True)\n",
    "    else:\n",
    "        embeddings_A = model.encode(examples['question1'], convert_to_numpy=True)\n",
    "        embeddings_B = model.encode(examples['question2'], convert_to_numpy=True)     \n",
    "    # add embeddings to dataset\n",
    "    return{\n",
    "        'embeddings1' : embeddings_A.astype(np.float32),\n",
    "        'embeddings2' : embeddings_B.astype(np.float32)\n",
    "    }"
   ]
  },
  {
   "cell_type": "code",
   "execution_count": null,
   "id": "66aceb4c",
   "metadata": {},
   "outputs": [],
   "source": [
    "# @title Binary datasets\n",
    "for dataset_name in benchmark_datasets:\n",
    "    os.makedirs(os.path.join(DATASETS, f\"{dataset_name}\"), exist_ok=True)\n",
    "    path = os.path.join(DATASETS, f\"{dataset_name}\")\n",
    "    if dataset_name == \"SICK\" or dataset_name == \"SR\":\n",
    "        dataset_id = benchmark_datasets[dataset_name]\n",
    "        dataset = load_from_disk(dataset_id)\n",
    "    else:\n",
    "        dataset_id = benchmark_datasets[dataset_name]\n",
    "        dataset = load_dataset(*dataset_id)\n",
    "    print(f\"Dataset: {dataset_name}\")\n",
    "    for model_name in model_dict:\n",
    "        print(f\"Model: {model_name}\")\n",
    "        model_id = model_dict[model_name]\n",
    "        model = SentenceTransformer(model_id,device=device)\n",
    "        # Compute embeddings\n",
    "        dataset = dataset.map(lambda x: compute_embeddings(x, model), batched=True, batch_size=32,load_from_cache_file=False)\n",
    "        # Save the dataset with embeddings\n",
    "        dataset.save_to_disk(os.path.join(path, f\"{dataset_name}_{model_name}\"))"
   ]
  },
  {
   "cell_type": "code",
   "execution_count": null,
   "id": "535c945d",
   "metadata": {},
   "outputs": [],
   "source": [
    "# @title VISLA dataset\n",
    "generic_path = os.path.join(VISLA_DATA,\"Generic_VISLA.tsv\")\n",
    "Spatial_path = os.path.join(VISLA_DATA,\"Spatial_VISLA.tsv\")\n",
    "Generic_VISLA = load_dataset(\n",
    "    'csv',\n",
    "    data_files=generic_path,\n",
    "    delimiter='\\t',\n",
    ")\n",
    "Spatial_VISLA = load_dataset(\n",
    "    'csv',\n",
    "    data_files=Spatial_path,\n",
    "    delimiter='\\t',\n",
    ")"
   ]
  },
  {
   "cell_type": "code",
   "execution_count": null,
   "id": "b929384a",
   "metadata": {},
   "outputs": [],
   "source": []
  }
 ],
 "metadata": {
  "kernelspec": {
   "display_name": "sentence_transformer",
   "language": "python",
   "name": "python3"
  },
  "language_info": {
   "codemirror_mode": {
    "name": "ipython",
    "version": 3
   },
   "file_extension": ".py",
   "mimetype": "text/x-python",
   "name": "python",
   "nbconvert_exporter": "python",
   "pygments_lexer": "ipython3",
   "version": "3.10.17"
  }
 },
 "nbformat": 4,
 "nbformat_minor": 5
}
